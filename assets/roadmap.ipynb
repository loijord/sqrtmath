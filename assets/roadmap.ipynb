{
 "cells": [
  {
   "cell_type": "markdown",
   "source": [],
   "metadata": {
    "collapsed": false,
    "pycharm": {
     "name": "#%% md\n"
    }
   }
  },
  {
   "cell_type": "markdown",
   "source": [
    "### 2022-05-31\n",
    "Project $\\large \\sqrt{MATH}$ has spawned out! It lives in [https://sqrtmath.herokuapp.com](https://sqrtmath.herokuapp.com). In its birth, it supports these features:\n",
    "* has a nice sidebar and content sections\n",
    "* able to navigate to other sidebars: like [https://sqrtmath.herokuapp.com/mokiniai](https://sqrtmath.herokuapp.com/mokiniai)\n",
    "* able to display some objects of `dash` library:\n",
    "  * [`dash_table.DataTable + dcc.Graph(figure=plotly.express.line)`](https://sqrtmath.herokuapp.com/mokiniai)\n",
    "  * [`dash-cytoscape.Cytoscape`](https://sqrtmath.herokuapp.com/mokiniai/ieva)\n",
    "  * `dcc.Markdown` with `mathjax` support like you see here\n",
    "  * [`Error 404` notification](https://sqrtmath.herokuapp.com/mokiniai/mariukas)\n",
    "\n",
    "It's based on `dash` so there's going to be a lot more fun:\n",
    "\n",
    "* [`https://dash.plotly.com/`](https://dash.plotly.com/)\n",
    "* [`https://github.com/vizzuhq/ipyvizzu`](https://github.com/vizzuhq/ipyvizzu)\n",
    "* Other apps that are possible to integrate with `dash`?"
   ],
   "metadata": {
    "collapsed": false,
    "pycharm": {
     "name": "#%% md\n"
    }
   }
  },
  {
   "cell_type": "markdown",
   "source": [
    "### 2022-06-01\n",
    "* support for generating Markdown content from notebooks in `assets`"
   ],
   "metadata": {
    "collapsed": false,
    "pycharm": {
     "name": "#%% md\n"
    }
   }
  },
  {
   "cell_type": "markdown",
   "source": [
    "### 2022-06-02\n",
    "* Added new demos `jumbotron`, `sidebar`, `interactive_graphs` to App Gallery section\n",
    "* TODO: more flexible mokesčiai\n",
    "* TODO: first attempt to upload lessons for Pijus"
   ],
   "metadata": {
    "collapsed": false,
    "pycharm": {
     "name": "#%% md\n"
    }
   }
  }
 ],
 "metadata": {
  "kernelspec": {
   "display_name": "Python 3",
   "language": "python",
   "name": "python3"
  },
  "language_info": {
   "codemirror_mode": {
    "name": "ipython",
    "version": 2
   },
   "file_extension": ".py",
   "mimetype": "text/x-python",
   "name": "python",
   "nbconvert_exporter": "python",
   "pygments_lexer": "ipython2",
   "version": "2.7.6"
  }
 },
 "nbformat": 4,
 "nbformat_minor": 0
}