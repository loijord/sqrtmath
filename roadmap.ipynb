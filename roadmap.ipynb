{
 "cells": [
  {
   "cell_type": "markdown",
   "source": [
    "# Project Roadmap\n",
    "\n",
    "Šis projektas yra skirtas palengvinti matematikos mokymosi procesą. Jame bus talpinama įvairi medžiaga: sąvokos, taisyklės, uždaviniai su sprendimais ir kt. Mokiniai galės pasirinkti specifinę temą/as, pasitikrinti savo gebėjimus ir sužinoti, kokių tiksliai dalykų nemoka. Įsivertinus atsiranda galimybė kartoti ne viską iš eilės, o tik tai, ką nemoka. Turėtų susitaupyti daug brangaus mokinių laiko, kurio matematika nuolat stinga. Vėlesnėse projekto stadijose turėtų atsirasti:\n",
    "* Didelė visiškai skaitmeninė matematinės medžiagos bazė su galimu parsisiuntimu\n",
    "* Galimybė peržiūrėti kiekvieno uždavinio sprendimą pažingsniui\n",
    "* Galimybė vizualiai peržiūrėti, kaip stiprėja neuroninės jungtys tam tikroje srityje\n",
    "* Galimybė įvertinti, kiek tankiai sprendžiant uždavinius yra atliekamas tam tikras pasikartojantis žingsnis ar žingsnių rinkinys"
   ],
   "metadata": {
    "collapsed": false,
    "pycharm": {
     "name": "#%% md\n"
    }
   }
  },
  {
   "cell_type": "markdown",
   "source": [
    "# Release notes\n",
    "### 2022-05-31\n",
    "Project $\\large \\sqrt{MATH}$ has spawned out! It lives in [https://sqrtmath.herokuapp.com](https://sqrtmath.herokuapp.com). In its birth, it supports these features:\n",
    "* has a nice sidebar and content sections\n",
    "* able to navigate to other sidebars: like [https://sqrtmath.herokuapp.com/mokiniai](https://sqrtmath.herokuapp.com/mokiniai)\n",
    "* able to display some objects of `dash` library:\n",
    "  * [`dash_table.DataTable + dcc.Graph(figure=plotly.express.line)`](https://sqrtmath.herokuapp.com/mokiniai)\n",
    "  * [`dash-cytoscape.Cytoscape`](https://sqrtmath.herokuapp.com/mokiniai/ieva)\n",
    "  * `dcc.Markdown` with `mathjax` support like you see here\n",
    "  * [`Error 404` notification](https://sqrtmath.herokuapp.com/mokiniai/mariukas)\n",
    "\n",
    "It's based on `dash` so there's going to be a lot more fun:\n",
    "\n",
    "* [`https://dash.plotly.com/`](https://dash.plotly.com/)\n",
    "* [`https://github.com/vizzuhq/ipyvizzu`](https://github.com/vizzuhq/ipyvizzu)\n",
    "* Other apps that are possible to integrate with `dash`?"
   ],
   "metadata": {
    "collapsed": false,
    "pycharm": {
     "name": "#%% md\n"
    }
   }
  },
  {
   "cell_type": "markdown",
   "source": [
    "### 2022-06-01\n",
    "* support for Markdown content of notebooks"
   ],
   "metadata": {
    "collapsed": false,
    "pycharm": {
     "name": "#%% md\n"
    }
   }
  },
  {
   "cell_type": "code",
   "execution_count": null,
   "outputs": [],
   "source": [],
   "metadata": {
    "collapsed": false,
    "pycharm": {
     "name": "#%%\n"
    }
   }
  }
 ],
 "metadata": {
  "kernelspec": {
   "display_name": "Python 3",
   "language": "python",
   "name": "python3"
  },
  "language_info": {
   "codemirror_mode": {
    "name": "ipython",
    "version": 2
   },
   "file_extension": ".py",
   "mimetype": "text/x-python",
   "name": "python",
   "nbconvert_exporter": "python",
   "pygments_lexer": "ipython2",
   "version": "2.7.6"
  }
 },
 "nbformat": 4,
 "nbformat_minor": 0
}