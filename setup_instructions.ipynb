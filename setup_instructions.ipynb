{
 "cells": [
  {
   "cell_type": "markdown",
   "source": [
    "* In general, use this tutorial to [deploy your dash app to heroku](https://towardsdatascience.com/deploying-your-dash-app-to-heroku-the-magical-guide-39bd6a0c586c)\n",
    "\n",
    "## Definitions\n",
    "* **Dash** allows entire website to be written in Python by wrapping web components and facilitating 2-way communication (callbacks)\n",
    "* **Plotly.js** Allows access to powerful ecosystem of data visalisations (40 chart types) that run responsively client side. Dash is built on top of this library. The library itself is built on top of d3.js and stack.gl.\n",
    "* **React.js** \tAn open-source, front end, JavaScript library for building user interfaces or UI components. Notably Dash is written on top of this.\n",
    "* **WSGI (HTTP) Server** \tHTTP server that manages incoming requests from the browser.\n",
    "* **Gunicorn** A Python library designed to work with WSGI (HTTP) Server\n",
    "* **Heroku** A scalable platform-as-a-service (PaaS) to deploy and physically host your web application and make it accessible on the internet.\n",
    "\n",
    "## Installing trial of Pycharm Profesional\n",
    "* `sudo rm /etc/apt/preferences.d/nosnap.pref`\n",
    "* `sudo apt update`\n",
    "* `sudo apt install snapd`\n",
    "* `sudo snap install pycharm-professional --classic`\n",
    "\n",
    "## Get Gunicorn\n",
    "\n",
    "Usually Dash is not designed for handling incoming traffic from a production website and so when you deploy to the web, you need a production-ready HTTP server (WSGI). A popular one is Gunicorn. You need to use it to tell Heroku how to handle web processes and the name of your Python application.\n",
    "\n",
    "* `Procfile`: `web: gunicorn sidebar:server`\n",
    "* `runtime.txt`: `python-3.8.10`\n",
    "* `sidebar.py`: add line `server = app.server`\n",
    "\n",
    "## Heroku app\n",
    " * Install Heroku:\n",
    "\n",
    "    `curl https://cli-assets.heroku.com/install-ubuntu.sh | sh`\n",
    "\n",
    " * Make sure it's recognised in your `venv`: run `Heroku`. You'll need Pycharm Professional for this.\n",
    "\n",
    " * Create Heroku app and push to heroku\n",
    "\n",
    "        heroku create\n",
    "        git push heroku master\n",
    "\n",
    "## If in directory, named:\n",
    "\n",
    "        cd sqrtmath\n",
    "        heroku apps:create sqrtmath\n",
    "        heroku git:remote -a sqrtmath\n",
    "        git push heroku master\n",
    "\n",
    "## More info:\n",
    "\n",
    "    https://www.airpair.com/heroku/posts/heroku-tips-and-hacks\n",
    "\n",
    "# More about multi-page app layout:\n",
    "\n",
    "    https://dash.plotly.com/urls"
   ],
   "metadata": {
    "collapsed": false,
    "pycharm": {
     "name": "#%% md\n"
    }
   }
  },
  {
   "cell_type": "markdown",
   "source": [
    "## Support for GeoGebra"
   ],
   "metadata": {
    "collapsed": false,
    "pycharm": {
     "name": "#%% md\n"
    }
   }
  },
  {
   "cell_type": "markdown",
   "source": [
    "Currently `Dash` has no support for GeoGebra unless any of these issues are resolved:\n",
    "   * GitHub\n",
    "   * Dash community\n",
    "   * StackOverflow\n",
    "\n",
    "**Issue**: Dash support for GeoGebra"
   ],
   "metadata": {
    "collapsed": false,
    "pycharm": {
     "name": "#%% md\n"
    }
   }
  }
 ],
 "metadata": {
  "kernelspec": {
   "display_name": "Python 3",
   "language": "python",
   "name": "python3"
  },
  "language_info": {
   "codemirror_mode": {
    "name": "ipython",
    "version": 2
   },
   "file_extension": ".py",
   "mimetype": "text/x-python",
   "name": "python",
   "nbconvert_exporter": "python",
   "pygments_lexer": "ipython2",
   "version": "2.7.6"
  }
 },
 "nbformat": 4,
 "nbformat_minor": 0
}